{
  "nbformat": 4,
  "nbformat_minor": 0,
  "metadata": {
    "colab": {
      "provenance": [],
      "collapsed_sections": []
    },
    "kernelspec": {
      "name": "python3",
      "display_name": "Python 3"
    },
    "language_info": {
      "name": "python"
    }
  },
  "cells": [
    {
      "cell_type": "markdown",
      "source": [
        "# **Imports**"
      ],
      "metadata": {
        "id": "wF097BEq9qdm"
      }
    },
    {
      "cell_type": "code",
      "execution_count": 1,
      "metadata": {
        "id": "QaTApPA-PNbd"
      },
      "outputs": [],
      "source": [
        "import numpy as np\n",
        "import pandas as pd\n",
        "import os\n",
        "import re\n",
        "import warnings\n",
        "import matplotlib.pyplot as plt\n",
        "import librosa\n",
        "import librosa.display\n",
        "from sklearn.preprocessing import minmax_scale"
      ]
    },
    {
      "cell_type": "code",
      "source": [
        "from tqdm import tqdm\n",
        "from sklearn.preprocessing import StandardScaler\n",
        "from sklearn.model_selection import train_test_split, cross_val_score\n",
        "from sklearn.linear_model import LogisticRegression\n",
        "from sklearn.pipeline import Pipeline\n",
        "from sklearn.metrics import classification_report, confusion_matrix"
      ],
      "metadata": {
        "id": "Vnyb-PcAes-m"
      },
      "execution_count": 2,
      "outputs": []
    },
    {
      "cell_type": "code",
      "source": [
        "from sklearn.preprocessing import LabelEncoder"
      ],
      "metadata": {
        "id": "mBGqJWOz6C1q"
      },
      "execution_count": 21,
      "outputs": []
    },
    {
      "cell_type": "code",
      "source": [
        "import seaborn as sns"
      ],
      "metadata": {
        "id": "1TVu-AhX9K9C"
      },
      "execution_count": 90,
      "outputs": []
    },
    {
      "cell_type": "code",
      "source": [
        "import tensorflow as tf\n",
        "from tensorflow.keras.models import Sequential, Model\n",
        "from tensorflow.keras.layers import Input, Conv2D, MaxPooling2D, Dense, Flatten, InputLayer, UpSampling2D, Layer, Reshape\n",
        "from tensorflow.keras.callbacks import EarlyStopping, ModelCheckpoint\n",
        "\n",
        "from keras.utils import to_categorical\n",
        "from numpy import argmax\n",
        "\n",
        "from keras.models import Sequential\n",
        "from keras.layers import Dense, Dropout\n",
        "from keras.optimizers import SGD, Adam, Adadelta, RMSprop\n",
        "import keras.backend as K"
      ],
      "metadata": {
        "id": "gwE5o4lt9pbV"
      },
      "execution_count": 91,
      "outputs": []
    },
    {
      "cell_type": "markdown",
      "source": [
        "# **Data Preprocessing**"
      ],
      "metadata": {
        "id": "Xs--TxnO9t81"
      }
    },
    {
      "cell_type": "code",
      "source": [
        "!unzip '/content/drive/MyDrive/Datasets/speech emotion dataset.zip' -d '/content/data'"
      ],
      "metadata": {
        "id": "PXh_mnZ-dwry"
      },
      "execution_count": null,
      "outputs": []
    },
    {
      "cell_type": "code",
      "source": [
        "#finding the path of every wave file in the dataset!\n",
        "records = []\n",
        "for dirname, _, filenames in os.walk('/content/data'):\n",
        "    for filename in filenames:\n",
        "        records.append([filename, os.path.join(dirname,filename)])\n",
        "\n",
        "\n",
        "records"
      ],
      "metadata": {
        "id": "wkMeNpRdkIMn"
      },
      "execution_count": null,
      "outputs": []
    },
    {
      "cell_type": "code",
      "source": [
        "data = pd.DataFrame(records, columns=['filename','path'])\n",
        "data['actor'] = data['path'].apply(lambda x: re.findall(\"\\w+_\\d+\",x)[0])\n",
        "data = data[data['actor']!=\"audio_speech_actors_01\"]\n",
        "data.reset_index(inplace=True,drop=True)\n",
        "data['type'] = data['filename'].apply(lambda x: re.split(\"-\\d+\\.wav\",x)[0])\n",
        "data"
      ],
      "metadata": {
        "colab": {
          "base_uri": "https://localhost:8080/",
          "height": 424
        },
        "id": "vuYi6JG2dLiR",
        "outputId": "fab58738-1353-4db5-9eb1-6ec390997095"
      },
      "execution_count": 5,
      "outputs": [
        {
          "output_type": "execute_result",
          "data": {
            "text/plain": [
              "                      filename  \\\n",
              "0     03-01-06-01-02-02-15.wav   \n",
              "1     03-01-05-01-02-01-15.wav   \n",
              "2     03-01-06-01-01-01-15.wav   \n",
              "3     03-01-02-01-01-01-15.wav   \n",
              "4     03-01-03-02-01-01-15.wav   \n",
              "...                        ...   \n",
              "1435  03-01-05-02-01-01-12.wav   \n",
              "1436  03-01-01-01-01-01-12.wav   \n",
              "1437  03-01-05-01-02-01-12.wav   \n",
              "1438  03-01-08-02-02-01-12.wav   \n",
              "1439  03-01-01-01-02-01-12.wav   \n",
              "\n",
              "                                                 path     actor  \\\n",
              "0     /content/data/Actor_15/03-01-06-01-02-02-15.wav  Actor_15   \n",
              "1     /content/data/Actor_15/03-01-05-01-02-01-15.wav  Actor_15   \n",
              "2     /content/data/Actor_15/03-01-06-01-01-01-15.wav  Actor_15   \n",
              "3     /content/data/Actor_15/03-01-02-01-01-01-15.wav  Actor_15   \n",
              "4     /content/data/Actor_15/03-01-03-02-01-01-15.wav  Actor_15   \n",
              "...                                               ...       ...   \n",
              "1435  /content/data/Actor_12/03-01-05-02-01-01-12.wav  Actor_12   \n",
              "1436  /content/data/Actor_12/03-01-01-01-01-01-12.wav  Actor_12   \n",
              "1437  /content/data/Actor_12/03-01-05-01-02-01-12.wav  Actor_12   \n",
              "1438  /content/data/Actor_12/03-01-08-02-02-01-12.wav  Actor_12   \n",
              "1439  /content/data/Actor_12/03-01-01-01-02-01-12.wav  Actor_12   \n",
              "\n",
              "                   type  \n",
              "0     03-01-06-01-02-02  \n",
              "1     03-01-05-01-02-01  \n",
              "2     03-01-06-01-01-01  \n",
              "3     03-01-02-01-01-01  \n",
              "4     03-01-03-02-01-01  \n",
              "...                 ...  \n",
              "1435  03-01-05-02-01-01  \n",
              "1436  03-01-01-01-01-01  \n",
              "1437  03-01-05-01-02-01  \n",
              "1438  03-01-08-02-02-01  \n",
              "1439  03-01-01-01-02-01  \n",
              "\n",
              "[1440 rows x 4 columns]"
            ],
            "text/html": [
              "\n",
              "  <div id=\"df-fe97dc9d-52ee-4e54-a70d-e811387bf862\">\n",
              "    <div class=\"colab-df-container\">\n",
              "      <div>\n",
              "<style scoped>\n",
              "    .dataframe tbody tr th:only-of-type {\n",
              "        vertical-align: middle;\n",
              "    }\n",
              "\n",
              "    .dataframe tbody tr th {\n",
              "        vertical-align: top;\n",
              "    }\n",
              "\n",
              "    .dataframe thead th {\n",
              "        text-align: right;\n",
              "    }\n",
              "</style>\n",
              "<table border=\"1\" class=\"dataframe\">\n",
              "  <thead>\n",
              "    <tr style=\"text-align: right;\">\n",
              "      <th></th>\n",
              "      <th>filename</th>\n",
              "      <th>path</th>\n",
              "      <th>actor</th>\n",
              "      <th>type</th>\n",
              "    </tr>\n",
              "  </thead>\n",
              "  <tbody>\n",
              "    <tr>\n",
              "      <th>0</th>\n",
              "      <td>03-01-06-01-02-02-15.wav</td>\n",
              "      <td>/content/data/Actor_15/03-01-06-01-02-02-15.wav</td>\n",
              "      <td>Actor_15</td>\n",
              "      <td>03-01-06-01-02-02</td>\n",
              "    </tr>\n",
              "    <tr>\n",
              "      <th>1</th>\n",
              "      <td>03-01-05-01-02-01-15.wav</td>\n",
              "      <td>/content/data/Actor_15/03-01-05-01-02-01-15.wav</td>\n",
              "      <td>Actor_15</td>\n",
              "      <td>03-01-05-01-02-01</td>\n",
              "    </tr>\n",
              "    <tr>\n",
              "      <th>2</th>\n",
              "      <td>03-01-06-01-01-01-15.wav</td>\n",
              "      <td>/content/data/Actor_15/03-01-06-01-01-01-15.wav</td>\n",
              "      <td>Actor_15</td>\n",
              "      <td>03-01-06-01-01-01</td>\n",
              "    </tr>\n",
              "    <tr>\n",
              "      <th>3</th>\n",
              "      <td>03-01-02-01-01-01-15.wav</td>\n",
              "      <td>/content/data/Actor_15/03-01-02-01-01-01-15.wav</td>\n",
              "      <td>Actor_15</td>\n",
              "      <td>03-01-02-01-01-01</td>\n",
              "    </tr>\n",
              "    <tr>\n",
              "      <th>4</th>\n",
              "      <td>03-01-03-02-01-01-15.wav</td>\n",
              "      <td>/content/data/Actor_15/03-01-03-02-01-01-15.wav</td>\n",
              "      <td>Actor_15</td>\n",
              "      <td>03-01-03-02-01-01</td>\n",
              "    </tr>\n",
              "    <tr>\n",
              "      <th>...</th>\n",
              "      <td>...</td>\n",
              "      <td>...</td>\n",
              "      <td>...</td>\n",
              "      <td>...</td>\n",
              "    </tr>\n",
              "    <tr>\n",
              "      <th>1435</th>\n",
              "      <td>03-01-05-02-01-01-12.wav</td>\n",
              "      <td>/content/data/Actor_12/03-01-05-02-01-01-12.wav</td>\n",
              "      <td>Actor_12</td>\n",
              "      <td>03-01-05-02-01-01</td>\n",
              "    </tr>\n",
              "    <tr>\n",
              "      <th>1436</th>\n",
              "      <td>03-01-01-01-01-01-12.wav</td>\n",
              "      <td>/content/data/Actor_12/03-01-01-01-01-01-12.wav</td>\n",
              "      <td>Actor_12</td>\n",
              "      <td>03-01-01-01-01-01</td>\n",
              "    </tr>\n",
              "    <tr>\n",
              "      <th>1437</th>\n",
              "      <td>03-01-05-01-02-01-12.wav</td>\n",
              "      <td>/content/data/Actor_12/03-01-05-01-02-01-12.wav</td>\n",
              "      <td>Actor_12</td>\n",
              "      <td>03-01-05-01-02-01</td>\n",
              "    </tr>\n",
              "    <tr>\n",
              "      <th>1438</th>\n",
              "      <td>03-01-08-02-02-01-12.wav</td>\n",
              "      <td>/content/data/Actor_12/03-01-08-02-02-01-12.wav</td>\n",
              "      <td>Actor_12</td>\n",
              "      <td>03-01-08-02-02-01</td>\n",
              "    </tr>\n",
              "    <tr>\n",
              "      <th>1439</th>\n",
              "      <td>03-01-01-01-02-01-12.wav</td>\n",
              "      <td>/content/data/Actor_12/03-01-01-01-02-01-12.wav</td>\n",
              "      <td>Actor_12</td>\n",
              "      <td>03-01-01-01-02-01</td>\n",
              "    </tr>\n",
              "  </tbody>\n",
              "</table>\n",
              "<p>1440 rows × 4 columns</p>\n",
              "</div>\n",
              "      <button class=\"colab-df-convert\" onclick=\"convertToInteractive('df-fe97dc9d-52ee-4e54-a70d-e811387bf862')\"\n",
              "              title=\"Convert this dataframe to an interactive table.\"\n",
              "              style=\"display:none;\">\n",
              "        \n",
              "  <svg xmlns=\"http://www.w3.org/2000/svg\" height=\"24px\"viewBox=\"0 0 24 24\"\n",
              "       width=\"24px\">\n",
              "    <path d=\"M0 0h24v24H0V0z\" fill=\"none\"/>\n",
              "    <path d=\"M18.56 5.44l.94 2.06.94-2.06 2.06-.94-2.06-.94-.94-2.06-.94 2.06-2.06.94zm-11 1L8.5 8.5l.94-2.06 2.06-.94-2.06-.94L8.5 2.5l-.94 2.06-2.06.94zm10 10l.94 2.06.94-2.06 2.06-.94-2.06-.94-.94-2.06-.94 2.06-2.06.94z\"/><path d=\"M17.41 7.96l-1.37-1.37c-.4-.4-.92-.59-1.43-.59-.52 0-1.04.2-1.43.59L10.3 9.45l-7.72 7.72c-.78.78-.78 2.05 0 2.83L4 21.41c.39.39.9.59 1.41.59.51 0 1.02-.2 1.41-.59l7.78-7.78 2.81-2.81c.8-.78.8-2.07 0-2.86zM5.41 20L4 18.59l7.72-7.72 1.47 1.35L5.41 20z\"/>\n",
              "  </svg>\n",
              "      </button>\n",
              "      \n",
              "  <style>\n",
              "    .colab-df-container {\n",
              "      display:flex;\n",
              "      flex-wrap:wrap;\n",
              "      gap: 12px;\n",
              "    }\n",
              "\n",
              "    .colab-df-convert {\n",
              "      background-color: #E8F0FE;\n",
              "      border: none;\n",
              "      border-radius: 50%;\n",
              "      cursor: pointer;\n",
              "      display: none;\n",
              "      fill: #1967D2;\n",
              "      height: 32px;\n",
              "      padding: 0 0 0 0;\n",
              "      width: 32px;\n",
              "    }\n",
              "\n",
              "    .colab-df-convert:hover {\n",
              "      background-color: #E2EBFA;\n",
              "      box-shadow: 0px 1px 2px rgba(60, 64, 67, 0.3), 0px 1px 3px 1px rgba(60, 64, 67, 0.15);\n",
              "      fill: #174EA6;\n",
              "    }\n",
              "\n",
              "    [theme=dark] .colab-df-convert {\n",
              "      background-color: #3B4455;\n",
              "      fill: #D2E3FC;\n",
              "    }\n",
              "\n",
              "    [theme=dark] .colab-df-convert:hover {\n",
              "      background-color: #434B5C;\n",
              "      box-shadow: 0px 1px 3px 1px rgba(0, 0, 0, 0.15);\n",
              "      filter: drop-shadow(0px 1px 2px rgba(0, 0, 0, 0.3));\n",
              "      fill: #FFFFFF;\n",
              "    }\n",
              "  </style>\n",
              "\n",
              "      <script>\n",
              "        const buttonEl =\n",
              "          document.querySelector('#df-fe97dc9d-52ee-4e54-a70d-e811387bf862 button.colab-df-convert');\n",
              "        buttonEl.style.display =\n",
              "          google.colab.kernel.accessAllowed ? 'block' : 'none';\n",
              "\n",
              "        async function convertToInteractive(key) {\n",
              "          const element = document.querySelector('#df-fe97dc9d-52ee-4e54-a70d-e811387bf862');\n",
              "          const dataTable =\n",
              "            await google.colab.kernel.invokeFunction('convertToInteractive',\n",
              "                                                     [key], {});\n",
              "          if (!dataTable) return;\n",
              "\n",
              "          const docLinkHtml = 'Like what you see? Visit the ' +\n",
              "            '<a target=\"_blank\" href=https://colab.research.google.com/notebooks/data_table.ipynb>data table notebook</a>'\n",
              "            + ' to learn more about interactive tables.';\n",
              "          element.innerHTML = '';\n",
              "          dataTable['output_type'] = 'display_data';\n",
              "          await google.colab.output.renderOutput(dataTable, element);\n",
              "          const docLink = document.createElement('div');\n",
              "          docLink.innerHTML = docLinkHtml;\n",
              "          element.appendChild(docLink);\n",
              "        }\n",
              "      </script>\n",
              "    </div>\n",
              "  </div>\n",
              "  "
            ]
          },
          "metadata": {},
          "execution_count": 5
        }
      ]
    },
    {
      "cell_type": "code",
      "source": [
        "data['actor'].nunique()"
      ],
      "metadata": {
        "colab": {
          "base_uri": "https://localhost:8080/"
        },
        "id": "bhCsxOAFdLSK",
        "outputId": "4a229463-87a7-4c5b-c5a1-8fc812c50828"
      },
      "execution_count": 6,
      "outputs": [
        {
          "output_type": "execute_result",
          "data": {
            "text/plain": [
              "24"
            ]
          },
          "metadata": {},
          "execution_count": 6
        }
      ]
    },
    {
      "cell_type": "code",
      "source": [
        "data['actor'].value_counts()"
      ],
      "metadata": {
        "id": "vGz_XSc1edFI",
        "colab": {
          "base_uri": "https://localhost:8080/"
        },
        "outputId": "ff751f1a-0756-438b-c341-3632cc5037cd"
      },
      "execution_count": 7,
      "outputs": [
        {
          "output_type": "execute_result",
          "data": {
            "text/plain": [
              "Actor_15    60\n",
              "Actor_24    60\n",
              "Actor_09    60\n",
              "Actor_22    60\n",
              "Actor_10    60\n",
              "Actor_23    60\n",
              "Actor_21    60\n",
              "Actor_11    60\n",
              "Actor_02    60\n",
              "Actor_04    60\n",
              "Actor_13    60\n",
              "Actor_16    60\n",
              "Actor_19    60\n",
              "Actor_07    60\n",
              "Actor_20    60\n",
              "Actor_03    60\n",
              "Actor_18    60\n",
              "Actor_01    60\n",
              "Actor_17    60\n",
              "Actor_08    60\n",
              "Actor_14    60\n",
              "Actor_06    60\n",
              "Actor_05    60\n",
              "Actor_12    60\n",
              "Name: actor, dtype: int64"
            ]
          },
          "metadata": {},
          "execution_count": 7
        }
      ]
    },
    {
      "cell_type": "code",
      "source": [
        "desired_waves = []\n",
        "for Emotion in [\"03\", \"04\"]:\n",
        "  # for Emotion in [\"02\", \"03\", \"04\", \"05\", \"06\", \"07\", \"08\"]:\n",
        "    for intensity  in [\"01\", \"02\"]:\n",
        "        for Statement in [\"01\", \"02\"]:\n",
        "            for Repetition  in [\"01\", \"02\"]:\n",
        "                desired_waves.append(f\"03-01-{Emotion }-{intensity }-{Statement}-{Repetition }\")\n",
        "                \n",
        "data = data[data['type'].isin(desired_waves)]\n",
        "data.reset_index(inplace=True,drop=True)"
      ],
      "metadata": {
        "id": "dHSv22G_edCN"
      },
      "execution_count": 136,
      "outputs": []
    },
    {
      "cell_type": "code",
      "source": [
        "# def get_clcass(x):\n",
        "#   x_list = x.split('-')\n",
        "#   return int(x_list[2])\n",
        "\n",
        "def get_clcass(x):\n",
        "  x_list = x.split('-')\n",
        "  classn = int(x_list[2])\n",
        "  if classn == 2 or classn == 3 or classn == 8:\n",
        "    return 1\n",
        "  return 0"
      ],
      "metadata": {
        "id": "JGUeub_aoETN"
      },
      "execution_count": 137,
      "outputs": []
    },
    {
      "cell_type": "code",
      "source": [
        "def get_gender(x):\n",
        "  x_list = x.split('_')\n",
        "  return int(int(x_list[1]) % 2 == 0)"
      ],
      "metadata": {
        "id": "rTX0gZCuofJo"
      },
      "execution_count": 138,
      "outputs": []
    },
    {
      "cell_type": "code",
      "source": [
        "data['class'] = data['type'].apply(get_clcass)\n",
        "data['gender'] = data['actor'].apply(get_gender)"
      ],
      "metadata": {
        "id": "Retdpv7ToDPG"
      },
      "execution_count": null,
      "outputs": []
    },
    {
      "cell_type": "code",
      "source": [
        "data"
      ],
      "metadata": {
        "colab": {
          "base_uri": "https://localhost:8080/",
          "height": 424
        },
        "id": "QIeoF2oCec_E",
        "outputId": "4797c689-fd28-41c3-8bc5-e7563fd005d3"
      },
      "execution_count": 140,
      "outputs": [
        {
          "output_type": "execute_result",
          "data": {
            "text/plain": [
              "                     filename  \\\n",
              "0    03-01-03-02-01-01-15.wav   \n",
              "1    03-01-03-01-02-01-15.wav   \n",
              "2    03-01-04-01-02-02-15.wav   \n",
              "3    03-01-04-01-02-01-15.wav   \n",
              "4    03-01-04-02-02-01-15.wav   \n",
              "..                        ...   \n",
              "379  03-01-03-02-02-01-12.wav   \n",
              "380  03-01-04-01-01-01-12.wav   \n",
              "381  03-01-04-02-01-02-12.wav   \n",
              "382  03-01-03-02-02-02-12.wav   \n",
              "383  03-01-03-01-02-02-12.wav   \n",
              "\n",
              "                                                path     actor  \\\n",
              "0    /content/data/Actor_15/03-01-03-02-01-01-15.wav  Actor_15   \n",
              "1    /content/data/Actor_15/03-01-03-01-02-01-15.wav  Actor_15   \n",
              "2    /content/data/Actor_15/03-01-04-01-02-02-15.wav  Actor_15   \n",
              "3    /content/data/Actor_15/03-01-04-01-02-01-15.wav  Actor_15   \n",
              "4    /content/data/Actor_15/03-01-04-02-02-01-15.wav  Actor_15   \n",
              "..                                               ...       ...   \n",
              "379  /content/data/Actor_12/03-01-03-02-02-01-12.wav  Actor_12   \n",
              "380  /content/data/Actor_12/03-01-04-01-01-01-12.wav  Actor_12   \n",
              "381  /content/data/Actor_12/03-01-04-02-01-02-12.wav  Actor_12   \n",
              "382  /content/data/Actor_12/03-01-03-02-02-02-12.wav  Actor_12   \n",
              "383  /content/data/Actor_12/03-01-03-01-02-02-12.wav  Actor_12   \n",
              "\n",
              "                  type  class  gender  \n",
              "0    03-01-03-02-01-01      1       0  \n",
              "1    03-01-03-01-02-01      1       0  \n",
              "2    03-01-04-01-02-02      0       0  \n",
              "3    03-01-04-01-02-01      0       0  \n",
              "4    03-01-04-02-02-01      0       0  \n",
              "..                 ...    ...     ...  \n",
              "379  03-01-03-02-02-01      1       1  \n",
              "380  03-01-04-01-01-01      0       1  \n",
              "381  03-01-04-02-01-02      0       1  \n",
              "382  03-01-03-02-02-02      1       1  \n",
              "383  03-01-03-01-02-02      1       1  \n",
              "\n",
              "[384 rows x 6 columns]"
            ],
            "text/html": [
              "\n",
              "  <div id=\"df-bbc8abf3-8b56-432d-8f81-402f88b0d3a9\">\n",
              "    <div class=\"colab-df-container\">\n",
              "      <div>\n",
              "<style scoped>\n",
              "    .dataframe tbody tr th:only-of-type {\n",
              "        vertical-align: middle;\n",
              "    }\n",
              "\n",
              "    .dataframe tbody tr th {\n",
              "        vertical-align: top;\n",
              "    }\n",
              "\n",
              "    .dataframe thead th {\n",
              "        text-align: right;\n",
              "    }\n",
              "</style>\n",
              "<table border=\"1\" class=\"dataframe\">\n",
              "  <thead>\n",
              "    <tr style=\"text-align: right;\">\n",
              "      <th></th>\n",
              "      <th>filename</th>\n",
              "      <th>path</th>\n",
              "      <th>actor</th>\n",
              "      <th>type</th>\n",
              "      <th>class</th>\n",
              "      <th>gender</th>\n",
              "    </tr>\n",
              "  </thead>\n",
              "  <tbody>\n",
              "    <tr>\n",
              "      <th>0</th>\n",
              "      <td>03-01-03-02-01-01-15.wav</td>\n",
              "      <td>/content/data/Actor_15/03-01-03-02-01-01-15.wav</td>\n",
              "      <td>Actor_15</td>\n",
              "      <td>03-01-03-02-01-01</td>\n",
              "      <td>1</td>\n",
              "      <td>0</td>\n",
              "    </tr>\n",
              "    <tr>\n",
              "      <th>1</th>\n",
              "      <td>03-01-03-01-02-01-15.wav</td>\n",
              "      <td>/content/data/Actor_15/03-01-03-01-02-01-15.wav</td>\n",
              "      <td>Actor_15</td>\n",
              "      <td>03-01-03-01-02-01</td>\n",
              "      <td>1</td>\n",
              "      <td>0</td>\n",
              "    </tr>\n",
              "    <tr>\n",
              "      <th>2</th>\n",
              "      <td>03-01-04-01-02-02-15.wav</td>\n",
              "      <td>/content/data/Actor_15/03-01-04-01-02-02-15.wav</td>\n",
              "      <td>Actor_15</td>\n",
              "      <td>03-01-04-01-02-02</td>\n",
              "      <td>0</td>\n",
              "      <td>0</td>\n",
              "    </tr>\n",
              "    <tr>\n",
              "      <th>3</th>\n",
              "      <td>03-01-04-01-02-01-15.wav</td>\n",
              "      <td>/content/data/Actor_15/03-01-04-01-02-01-15.wav</td>\n",
              "      <td>Actor_15</td>\n",
              "      <td>03-01-04-01-02-01</td>\n",
              "      <td>0</td>\n",
              "      <td>0</td>\n",
              "    </tr>\n",
              "    <tr>\n",
              "      <th>4</th>\n",
              "      <td>03-01-04-02-02-01-15.wav</td>\n",
              "      <td>/content/data/Actor_15/03-01-04-02-02-01-15.wav</td>\n",
              "      <td>Actor_15</td>\n",
              "      <td>03-01-04-02-02-01</td>\n",
              "      <td>0</td>\n",
              "      <td>0</td>\n",
              "    </tr>\n",
              "    <tr>\n",
              "      <th>...</th>\n",
              "      <td>...</td>\n",
              "      <td>...</td>\n",
              "      <td>...</td>\n",
              "      <td>...</td>\n",
              "      <td>...</td>\n",
              "      <td>...</td>\n",
              "    </tr>\n",
              "    <tr>\n",
              "      <th>379</th>\n",
              "      <td>03-01-03-02-02-01-12.wav</td>\n",
              "      <td>/content/data/Actor_12/03-01-03-02-02-01-12.wav</td>\n",
              "      <td>Actor_12</td>\n",
              "      <td>03-01-03-02-02-01</td>\n",
              "      <td>1</td>\n",
              "      <td>1</td>\n",
              "    </tr>\n",
              "    <tr>\n",
              "      <th>380</th>\n",
              "      <td>03-01-04-01-01-01-12.wav</td>\n",
              "      <td>/content/data/Actor_12/03-01-04-01-01-01-12.wav</td>\n",
              "      <td>Actor_12</td>\n",
              "      <td>03-01-04-01-01-01</td>\n",
              "      <td>0</td>\n",
              "      <td>1</td>\n",
              "    </tr>\n",
              "    <tr>\n",
              "      <th>381</th>\n",
              "      <td>03-01-04-02-01-02-12.wav</td>\n",
              "      <td>/content/data/Actor_12/03-01-04-02-01-02-12.wav</td>\n",
              "      <td>Actor_12</td>\n",
              "      <td>03-01-04-02-01-02</td>\n",
              "      <td>0</td>\n",
              "      <td>1</td>\n",
              "    </tr>\n",
              "    <tr>\n",
              "      <th>382</th>\n",
              "      <td>03-01-03-02-02-02-12.wav</td>\n",
              "      <td>/content/data/Actor_12/03-01-03-02-02-02-12.wav</td>\n",
              "      <td>Actor_12</td>\n",
              "      <td>03-01-03-02-02-02</td>\n",
              "      <td>1</td>\n",
              "      <td>1</td>\n",
              "    </tr>\n",
              "    <tr>\n",
              "      <th>383</th>\n",
              "      <td>03-01-03-01-02-02-12.wav</td>\n",
              "      <td>/content/data/Actor_12/03-01-03-01-02-02-12.wav</td>\n",
              "      <td>Actor_12</td>\n",
              "      <td>03-01-03-01-02-02</td>\n",
              "      <td>1</td>\n",
              "      <td>1</td>\n",
              "    </tr>\n",
              "  </tbody>\n",
              "</table>\n",
              "<p>384 rows × 6 columns</p>\n",
              "</div>\n",
              "      <button class=\"colab-df-convert\" onclick=\"convertToInteractive('df-bbc8abf3-8b56-432d-8f81-402f88b0d3a9')\"\n",
              "              title=\"Convert this dataframe to an interactive table.\"\n",
              "              style=\"display:none;\">\n",
              "        \n",
              "  <svg xmlns=\"http://www.w3.org/2000/svg\" height=\"24px\"viewBox=\"0 0 24 24\"\n",
              "       width=\"24px\">\n",
              "    <path d=\"M0 0h24v24H0V0z\" fill=\"none\"/>\n",
              "    <path d=\"M18.56 5.44l.94 2.06.94-2.06 2.06-.94-2.06-.94-.94-2.06-.94 2.06-2.06.94zm-11 1L8.5 8.5l.94-2.06 2.06-.94-2.06-.94L8.5 2.5l-.94 2.06-2.06.94zm10 10l.94 2.06.94-2.06 2.06-.94-2.06-.94-.94-2.06-.94 2.06-2.06.94z\"/><path d=\"M17.41 7.96l-1.37-1.37c-.4-.4-.92-.59-1.43-.59-.52 0-1.04.2-1.43.59L10.3 9.45l-7.72 7.72c-.78.78-.78 2.05 0 2.83L4 21.41c.39.39.9.59 1.41.59.51 0 1.02-.2 1.41-.59l7.78-7.78 2.81-2.81c.8-.78.8-2.07 0-2.86zM5.41 20L4 18.59l7.72-7.72 1.47 1.35L5.41 20z\"/>\n",
              "  </svg>\n",
              "      </button>\n",
              "      \n",
              "  <style>\n",
              "    .colab-df-container {\n",
              "      display:flex;\n",
              "      flex-wrap:wrap;\n",
              "      gap: 12px;\n",
              "    }\n",
              "\n",
              "    .colab-df-convert {\n",
              "      background-color: #E8F0FE;\n",
              "      border: none;\n",
              "      border-radius: 50%;\n",
              "      cursor: pointer;\n",
              "      display: none;\n",
              "      fill: #1967D2;\n",
              "      height: 32px;\n",
              "      padding: 0 0 0 0;\n",
              "      width: 32px;\n",
              "    }\n",
              "\n",
              "    .colab-df-convert:hover {\n",
              "      background-color: #E2EBFA;\n",
              "      box-shadow: 0px 1px 2px rgba(60, 64, 67, 0.3), 0px 1px 3px 1px rgba(60, 64, 67, 0.15);\n",
              "      fill: #174EA6;\n",
              "    }\n",
              "\n",
              "    [theme=dark] .colab-df-convert {\n",
              "      background-color: #3B4455;\n",
              "      fill: #D2E3FC;\n",
              "    }\n",
              "\n",
              "    [theme=dark] .colab-df-convert:hover {\n",
              "      background-color: #434B5C;\n",
              "      box-shadow: 0px 1px 3px 1px rgba(0, 0, 0, 0.15);\n",
              "      filter: drop-shadow(0px 1px 2px rgba(0, 0, 0, 0.3));\n",
              "      fill: #FFFFFF;\n",
              "    }\n",
              "  </style>\n",
              "\n",
              "      <script>\n",
              "        const buttonEl =\n",
              "          document.querySelector('#df-bbc8abf3-8b56-432d-8f81-402f88b0d3a9 button.colab-df-convert');\n",
              "        buttonEl.style.display =\n",
              "          google.colab.kernel.accessAllowed ? 'block' : 'none';\n",
              "\n",
              "        async function convertToInteractive(key) {\n",
              "          const element = document.querySelector('#df-bbc8abf3-8b56-432d-8f81-402f88b0d3a9');\n",
              "          const dataTable =\n",
              "            await google.colab.kernel.invokeFunction('convertToInteractive',\n",
              "                                                     [key], {});\n",
              "          if (!dataTable) return;\n",
              "\n",
              "          const docLinkHtml = 'Like what you see? Visit the ' +\n",
              "            '<a target=\"_blank\" href=https://colab.research.google.com/notebooks/data_table.ipynb>data table notebook</a>'\n",
              "            + ' to learn more about interactive tables.';\n",
              "          element.innerHTML = '';\n",
              "          dataTable['output_type'] = 'display_data';\n",
              "          await google.colab.output.renderOutput(dataTable, element);\n",
              "          const docLink = document.createElement('div');\n",
              "          docLink.innerHTML = docLinkHtml;\n",
              "          element.appendChild(docLink);\n",
              "        }\n",
              "      </script>\n",
              "    </div>\n",
              "  </div>\n",
              "  "
            ]
          },
          "metadata": {},
          "execution_count": 140
        }
      ]
    },
    {
      "cell_type": "code",
      "source": [
        "data['gender'].value_counts()"
      ],
      "metadata": {
        "colab": {
          "base_uri": "https://localhost:8080/"
        },
        "id": "njSuzCuxec73",
        "outputId": "0f5f1998-7989-49bb-af76-a7e9582f539d"
      },
      "execution_count": 141,
      "outputs": [
        {
          "output_type": "execute_result",
          "data": {
            "text/plain": [
              "0    192\n",
              "1    192\n",
              "Name: gender, dtype: int64"
            ]
          },
          "metadata": {},
          "execution_count": 141
        }
      ]
    },
    {
      "cell_type": "code",
      "source": [
        "data['class'].value_counts()"
      ],
      "metadata": {
        "colab": {
          "base_uri": "https://localhost:8080/"
        },
        "id": "sYFrCoNxec5S",
        "outputId": "10735ea8-8203-4c9d-dcdc-03fce5e64fe8"
      },
      "execution_count": 142,
      "outputs": [
        {
          "output_type": "execute_result",
          "data": {
            "text/plain": [
              "1    192\n",
              "0    192\n",
              "Name: class, dtype: int64"
            ]
          },
          "metadata": {},
          "execution_count": 142
        }
      ]
    },
    {
      "cell_type": "code",
      "source": [
        "def feature_extraction(df, n_mels=256, mfcc=True):\n",
        "    features = []\n",
        "    for i,record in tqdm(df.iterrows(),total=df.shape[0]):\n",
        "        x , sr = librosa.load(record['path'])\n",
        "        if mfcc:\n",
        "          feature = np.mean(librosa.feature.mfcc(y=x, sr=sr, n_mfcc=n_mels),axis=1)\n",
        "        else:\n",
        "          feature = np.mean(librosa.feature.melspectrogram(y=x, sr=sr, n_mels=n_mels),axis=1)\n",
        "        features.append(feature)\n",
        "        \n",
        "    dataf = pd.DataFrame(features)\n",
        "    dataf['class'] = df['class']\n",
        "    return dataf"
      ],
      "metadata": {
        "id": "d5GHK45Iec2d"
      },
      "execution_count": 143,
      "outputs": []
    },
    {
      "cell_type": "code",
      "source": [
        "dataf = feature_extraction(data)\n",
        "dataf"
      ],
      "metadata": {
        "colab": {
          "base_uri": "https://localhost:8080/",
          "height": 505
        },
        "id": "sJz1Cgzdecxd",
        "outputId": "8664224c-9278-4699-8fef-6ef9f2ab4443"
      },
      "execution_count": 144,
      "outputs": [
        {
          "output_type": "stream",
          "name": "stderr",
          "text": [
            "100%|██████████| 384/384 [01:33<00:00,  4.12it/s]\n"
          ]
        },
        {
          "output_type": "execute_result",
          "data": {
            "text/plain": [
              "              0          1          2          3          4          5  \\\n",
              "0   -534.011353  53.023712  -4.433788  20.436903  10.487662   2.970737   \n",
              "1   -607.296387  72.686317  -8.776737  16.474308  14.138918   1.489949   \n",
              "2   -624.809814  78.754044  -1.337214  18.033997  13.770799   2.538930   \n",
              "3   -621.825012  64.829651  -2.207083  16.958910  13.353213   2.682176   \n",
              "4   -596.351074  58.433403 -11.341997  14.086228  11.148762  -2.038445   \n",
              "..          ...        ...        ...        ...        ...        ...   \n",
              "379 -546.362427  42.639999 -20.593513   5.049128  -2.962460  -9.379161   \n",
              "380 -624.428955  58.625443 -11.662168   6.876777  -0.556658  -5.448256   \n",
              "381 -491.846832  41.157749 -28.990593  -5.180639  -9.814553 -15.862906   \n",
              "382 -466.817596  31.821203 -31.982365  -5.055453  -6.710791 -16.952835   \n",
              "383 -591.012329  53.397449 -16.943810   8.279253  -0.484301 -11.161103   \n",
              "\n",
              "             6          7          8         9  ...       119       120  \\\n",
              "0     3.153078   6.918076  -2.723094  7.741090  ...  0.140436  0.332654   \n",
              "1    -1.819367  -0.006759  -3.948661  0.464627  ...  0.455346  0.495445   \n",
              "2     1.827972  -0.293346  -4.293371  4.200765  ...  0.110658  0.098476   \n",
              "3     1.021411   2.146424  -2.129469  3.262198  ...  0.291308  0.292537   \n",
              "4    -1.053091  -0.859459  -6.702956  4.734325  ...  0.303794 -0.062610   \n",
              "..         ...        ...        ...       ...  ...       ...       ...   \n",
              "379  -7.798457 -11.114220 -11.582814  2.590083  ... -0.440657 -0.453476   \n",
              "380  -7.119104 -10.308788 -11.914625 -0.986978  ... -0.231570  0.008706   \n",
              "381 -11.737224 -15.351455 -14.212711  5.309237  ...  0.080131  0.030080   \n",
              "382  -9.907125 -10.349740 -14.323522  2.149804  ...  0.327854 -0.030709   \n",
              "383  -8.805454 -15.679143 -11.301290 -0.671376  ... -0.379711 -0.261011   \n",
              "\n",
              "          121       122       123       124       125       126       127  \\\n",
              "0    0.135042  0.211539  0.528538  0.377186 -0.060424  0.126825 -0.101540   \n",
              "1    0.597533  0.633138  0.735175  0.612393  0.329188  0.337153  0.373860   \n",
              "2    0.154398  0.370456  0.031360  0.097968 -0.174590 -0.438722  0.051951   \n",
              "3    0.004907 -0.120288  0.240404  0.117328 -0.361489 -0.070461  0.755780   \n",
              "4    0.036294  0.534838  0.604767  0.217123 -0.015460 -0.064745 -0.159319   \n",
              "..        ...       ...       ...       ...       ...       ...       ...   \n",
              "379 -0.167439  0.299562 -0.039913 -0.162639  0.324126 -0.092631 -0.272216   \n",
              "380  0.297160  0.229709 -0.095319  0.056630  0.014940 -0.073966 -0.298488   \n",
              "381 -0.058324  0.234362  0.118876 -0.033933 -0.024959 -0.212345 -0.311496   \n",
              "382  0.154281  0.446209  0.052221  0.048685  0.181452 -0.228793  0.097568   \n",
              "383  0.009923 -0.084292 -0.087526  0.052353 -0.311984 -0.256068 -0.413886   \n",
              "\n",
              "     class  \n",
              "0        1  \n",
              "1        1  \n",
              "2        0  \n",
              "3        0  \n",
              "4        0  \n",
              "..     ...  \n",
              "379      1  \n",
              "380      0  \n",
              "381      0  \n",
              "382      1  \n",
              "383      1  \n",
              "\n",
              "[384 rows x 129 columns]"
            ],
            "text/html": [
              "\n",
              "  <div id=\"df-df346c5f-42f7-41cf-9bfd-ce4d38cbb505\">\n",
              "    <div class=\"colab-df-container\">\n",
              "      <div>\n",
              "<style scoped>\n",
              "    .dataframe tbody tr th:only-of-type {\n",
              "        vertical-align: middle;\n",
              "    }\n",
              "\n",
              "    .dataframe tbody tr th {\n",
              "        vertical-align: top;\n",
              "    }\n",
              "\n",
              "    .dataframe thead th {\n",
              "        text-align: right;\n",
              "    }\n",
              "</style>\n",
              "<table border=\"1\" class=\"dataframe\">\n",
              "  <thead>\n",
              "    <tr style=\"text-align: right;\">\n",
              "      <th></th>\n",
              "      <th>0</th>\n",
              "      <th>1</th>\n",
              "      <th>2</th>\n",
              "      <th>3</th>\n",
              "      <th>4</th>\n",
              "      <th>5</th>\n",
              "      <th>6</th>\n",
              "      <th>7</th>\n",
              "      <th>8</th>\n",
              "      <th>9</th>\n",
              "      <th>...</th>\n",
              "      <th>119</th>\n",
              "      <th>120</th>\n",
              "      <th>121</th>\n",
              "      <th>122</th>\n",
              "      <th>123</th>\n",
              "      <th>124</th>\n",
              "      <th>125</th>\n",
              "      <th>126</th>\n",
              "      <th>127</th>\n",
              "      <th>class</th>\n",
              "    </tr>\n",
              "  </thead>\n",
              "  <tbody>\n",
              "    <tr>\n",
              "      <th>0</th>\n",
              "      <td>-534.011353</td>\n",
              "      <td>53.023712</td>\n",
              "      <td>-4.433788</td>\n",
              "      <td>20.436903</td>\n",
              "      <td>10.487662</td>\n",
              "      <td>2.970737</td>\n",
              "      <td>3.153078</td>\n",
              "      <td>6.918076</td>\n",
              "      <td>-2.723094</td>\n",
              "      <td>7.741090</td>\n",
              "      <td>...</td>\n",
              "      <td>0.140436</td>\n",
              "      <td>0.332654</td>\n",
              "      <td>0.135042</td>\n",
              "      <td>0.211539</td>\n",
              "      <td>0.528538</td>\n",
              "      <td>0.377186</td>\n",
              "      <td>-0.060424</td>\n",
              "      <td>0.126825</td>\n",
              "      <td>-0.101540</td>\n",
              "      <td>1</td>\n",
              "    </tr>\n",
              "    <tr>\n",
              "      <th>1</th>\n",
              "      <td>-607.296387</td>\n",
              "      <td>72.686317</td>\n",
              "      <td>-8.776737</td>\n",
              "      <td>16.474308</td>\n",
              "      <td>14.138918</td>\n",
              "      <td>1.489949</td>\n",
              "      <td>-1.819367</td>\n",
              "      <td>-0.006759</td>\n",
              "      <td>-3.948661</td>\n",
              "      <td>0.464627</td>\n",
              "      <td>...</td>\n",
              "      <td>0.455346</td>\n",
              "      <td>0.495445</td>\n",
              "      <td>0.597533</td>\n",
              "      <td>0.633138</td>\n",
              "      <td>0.735175</td>\n",
              "      <td>0.612393</td>\n",
              "      <td>0.329188</td>\n",
              "      <td>0.337153</td>\n",
              "      <td>0.373860</td>\n",
              "      <td>1</td>\n",
              "    </tr>\n",
              "    <tr>\n",
              "      <th>2</th>\n",
              "      <td>-624.809814</td>\n",
              "      <td>78.754044</td>\n",
              "      <td>-1.337214</td>\n",
              "      <td>18.033997</td>\n",
              "      <td>13.770799</td>\n",
              "      <td>2.538930</td>\n",
              "      <td>1.827972</td>\n",
              "      <td>-0.293346</td>\n",
              "      <td>-4.293371</td>\n",
              "      <td>4.200765</td>\n",
              "      <td>...</td>\n",
              "      <td>0.110658</td>\n",
              "      <td>0.098476</td>\n",
              "      <td>0.154398</td>\n",
              "      <td>0.370456</td>\n",
              "      <td>0.031360</td>\n",
              "      <td>0.097968</td>\n",
              "      <td>-0.174590</td>\n",
              "      <td>-0.438722</td>\n",
              "      <td>0.051951</td>\n",
              "      <td>0</td>\n",
              "    </tr>\n",
              "    <tr>\n",
              "      <th>3</th>\n",
              "      <td>-621.825012</td>\n",
              "      <td>64.829651</td>\n",
              "      <td>-2.207083</td>\n",
              "      <td>16.958910</td>\n",
              "      <td>13.353213</td>\n",
              "      <td>2.682176</td>\n",
              "      <td>1.021411</td>\n",
              "      <td>2.146424</td>\n",
              "      <td>-2.129469</td>\n",
              "      <td>3.262198</td>\n",
              "      <td>...</td>\n",
              "      <td>0.291308</td>\n",
              "      <td>0.292537</td>\n",
              "      <td>0.004907</td>\n",
              "      <td>-0.120288</td>\n",
              "      <td>0.240404</td>\n",
              "      <td>0.117328</td>\n",
              "      <td>-0.361489</td>\n",
              "      <td>-0.070461</td>\n",
              "      <td>0.755780</td>\n",
              "      <td>0</td>\n",
              "    </tr>\n",
              "    <tr>\n",
              "      <th>4</th>\n",
              "      <td>-596.351074</td>\n",
              "      <td>58.433403</td>\n",
              "      <td>-11.341997</td>\n",
              "      <td>14.086228</td>\n",
              "      <td>11.148762</td>\n",
              "      <td>-2.038445</td>\n",
              "      <td>-1.053091</td>\n",
              "      <td>-0.859459</td>\n",
              "      <td>-6.702956</td>\n",
              "      <td>4.734325</td>\n",
              "      <td>...</td>\n",
              "      <td>0.303794</td>\n",
              "      <td>-0.062610</td>\n",
              "      <td>0.036294</td>\n",
              "      <td>0.534838</td>\n",
              "      <td>0.604767</td>\n",
              "      <td>0.217123</td>\n",
              "      <td>-0.015460</td>\n",
              "      <td>-0.064745</td>\n",
              "      <td>-0.159319</td>\n",
              "      <td>0</td>\n",
              "    </tr>\n",
              "    <tr>\n",
              "      <th>...</th>\n",
              "      <td>...</td>\n",
              "      <td>...</td>\n",
              "      <td>...</td>\n",
              "      <td>...</td>\n",
              "      <td>...</td>\n",
              "      <td>...</td>\n",
              "      <td>...</td>\n",
              "      <td>...</td>\n",
              "      <td>...</td>\n",
              "      <td>...</td>\n",
              "      <td>...</td>\n",
              "      <td>...</td>\n",
              "      <td>...</td>\n",
              "      <td>...</td>\n",
              "      <td>...</td>\n",
              "      <td>...</td>\n",
              "      <td>...</td>\n",
              "      <td>...</td>\n",
              "      <td>...</td>\n",
              "      <td>...</td>\n",
              "      <td>...</td>\n",
              "    </tr>\n",
              "    <tr>\n",
              "      <th>379</th>\n",
              "      <td>-546.362427</td>\n",
              "      <td>42.639999</td>\n",
              "      <td>-20.593513</td>\n",
              "      <td>5.049128</td>\n",
              "      <td>-2.962460</td>\n",
              "      <td>-9.379161</td>\n",
              "      <td>-7.798457</td>\n",
              "      <td>-11.114220</td>\n",
              "      <td>-11.582814</td>\n",
              "      <td>2.590083</td>\n",
              "      <td>...</td>\n",
              "      <td>-0.440657</td>\n",
              "      <td>-0.453476</td>\n",
              "      <td>-0.167439</td>\n",
              "      <td>0.299562</td>\n",
              "      <td>-0.039913</td>\n",
              "      <td>-0.162639</td>\n",
              "      <td>0.324126</td>\n",
              "      <td>-0.092631</td>\n",
              "      <td>-0.272216</td>\n",
              "      <td>1</td>\n",
              "    </tr>\n",
              "    <tr>\n",
              "      <th>380</th>\n",
              "      <td>-624.428955</td>\n",
              "      <td>58.625443</td>\n",
              "      <td>-11.662168</td>\n",
              "      <td>6.876777</td>\n",
              "      <td>-0.556658</td>\n",
              "      <td>-5.448256</td>\n",
              "      <td>-7.119104</td>\n",
              "      <td>-10.308788</td>\n",
              "      <td>-11.914625</td>\n",
              "      <td>-0.986978</td>\n",
              "      <td>...</td>\n",
              "      <td>-0.231570</td>\n",
              "      <td>0.008706</td>\n",
              "      <td>0.297160</td>\n",
              "      <td>0.229709</td>\n",
              "      <td>-0.095319</td>\n",
              "      <td>0.056630</td>\n",
              "      <td>0.014940</td>\n",
              "      <td>-0.073966</td>\n",
              "      <td>-0.298488</td>\n",
              "      <td>0</td>\n",
              "    </tr>\n",
              "    <tr>\n",
              "      <th>381</th>\n",
              "      <td>-491.846832</td>\n",
              "      <td>41.157749</td>\n",
              "      <td>-28.990593</td>\n",
              "      <td>-5.180639</td>\n",
              "      <td>-9.814553</td>\n",
              "      <td>-15.862906</td>\n",
              "      <td>-11.737224</td>\n",
              "      <td>-15.351455</td>\n",
              "      <td>-14.212711</td>\n",
              "      <td>5.309237</td>\n",
              "      <td>...</td>\n",
              "      <td>0.080131</td>\n",
              "      <td>0.030080</td>\n",
              "      <td>-0.058324</td>\n",
              "      <td>0.234362</td>\n",
              "      <td>0.118876</td>\n",
              "      <td>-0.033933</td>\n",
              "      <td>-0.024959</td>\n",
              "      <td>-0.212345</td>\n",
              "      <td>-0.311496</td>\n",
              "      <td>0</td>\n",
              "    </tr>\n",
              "    <tr>\n",
              "      <th>382</th>\n",
              "      <td>-466.817596</td>\n",
              "      <td>31.821203</td>\n",
              "      <td>-31.982365</td>\n",
              "      <td>-5.055453</td>\n",
              "      <td>-6.710791</td>\n",
              "      <td>-16.952835</td>\n",
              "      <td>-9.907125</td>\n",
              "      <td>-10.349740</td>\n",
              "      <td>-14.323522</td>\n",
              "      <td>2.149804</td>\n",
              "      <td>...</td>\n",
              "      <td>0.327854</td>\n",
              "      <td>-0.030709</td>\n",
              "      <td>0.154281</td>\n",
              "      <td>0.446209</td>\n",
              "      <td>0.052221</td>\n",
              "      <td>0.048685</td>\n",
              "      <td>0.181452</td>\n",
              "      <td>-0.228793</td>\n",
              "      <td>0.097568</td>\n",
              "      <td>1</td>\n",
              "    </tr>\n",
              "    <tr>\n",
              "      <th>383</th>\n",
              "      <td>-591.012329</td>\n",
              "      <td>53.397449</td>\n",
              "      <td>-16.943810</td>\n",
              "      <td>8.279253</td>\n",
              "      <td>-0.484301</td>\n",
              "      <td>-11.161103</td>\n",
              "      <td>-8.805454</td>\n",
              "      <td>-15.679143</td>\n",
              "      <td>-11.301290</td>\n",
              "      <td>-0.671376</td>\n",
              "      <td>...</td>\n",
              "      <td>-0.379711</td>\n",
              "      <td>-0.261011</td>\n",
              "      <td>0.009923</td>\n",
              "      <td>-0.084292</td>\n",
              "      <td>-0.087526</td>\n",
              "      <td>0.052353</td>\n",
              "      <td>-0.311984</td>\n",
              "      <td>-0.256068</td>\n",
              "      <td>-0.413886</td>\n",
              "      <td>1</td>\n",
              "    </tr>\n",
              "  </tbody>\n",
              "</table>\n",
              "<p>384 rows × 129 columns</p>\n",
              "</div>\n",
              "      <button class=\"colab-df-convert\" onclick=\"convertToInteractive('df-df346c5f-42f7-41cf-9bfd-ce4d38cbb505')\"\n",
              "              title=\"Convert this dataframe to an interactive table.\"\n",
              "              style=\"display:none;\">\n",
              "        \n",
              "  <svg xmlns=\"http://www.w3.org/2000/svg\" height=\"24px\"viewBox=\"0 0 24 24\"\n",
              "       width=\"24px\">\n",
              "    <path d=\"M0 0h24v24H0V0z\" fill=\"none\"/>\n",
              "    <path d=\"M18.56 5.44l.94 2.06.94-2.06 2.06-.94-2.06-.94-.94-2.06-.94 2.06-2.06.94zm-11 1L8.5 8.5l.94-2.06 2.06-.94-2.06-.94L8.5 2.5l-.94 2.06-2.06.94zm10 10l.94 2.06.94-2.06 2.06-.94-2.06-.94-.94-2.06-.94 2.06-2.06.94z\"/><path d=\"M17.41 7.96l-1.37-1.37c-.4-.4-.92-.59-1.43-.59-.52 0-1.04.2-1.43.59L10.3 9.45l-7.72 7.72c-.78.78-.78 2.05 0 2.83L4 21.41c.39.39.9.59 1.41.59.51 0 1.02-.2 1.41-.59l7.78-7.78 2.81-2.81c.8-.78.8-2.07 0-2.86zM5.41 20L4 18.59l7.72-7.72 1.47 1.35L5.41 20z\"/>\n",
              "  </svg>\n",
              "      </button>\n",
              "      \n",
              "  <style>\n",
              "    .colab-df-container {\n",
              "      display:flex;\n",
              "      flex-wrap:wrap;\n",
              "      gap: 12px;\n",
              "    }\n",
              "\n",
              "    .colab-df-convert {\n",
              "      background-color: #E8F0FE;\n",
              "      border: none;\n",
              "      border-radius: 50%;\n",
              "      cursor: pointer;\n",
              "      display: none;\n",
              "      fill: #1967D2;\n",
              "      height: 32px;\n",
              "      padding: 0 0 0 0;\n",
              "      width: 32px;\n",
              "    }\n",
              "\n",
              "    .colab-df-convert:hover {\n",
              "      background-color: #E2EBFA;\n",
              "      box-shadow: 0px 1px 2px rgba(60, 64, 67, 0.3), 0px 1px 3px 1px rgba(60, 64, 67, 0.15);\n",
              "      fill: #174EA6;\n",
              "    }\n",
              "\n",
              "    [theme=dark] .colab-df-convert {\n",
              "      background-color: #3B4455;\n",
              "      fill: #D2E3FC;\n",
              "    }\n",
              "\n",
              "    [theme=dark] .colab-df-convert:hover {\n",
              "      background-color: #434B5C;\n",
              "      box-shadow: 0px 1px 3px 1px rgba(0, 0, 0, 0.15);\n",
              "      filter: drop-shadow(0px 1px 2px rgba(0, 0, 0, 0.3));\n",
              "      fill: #FFFFFF;\n",
              "    }\n",
              "  </style>\n",
              "\n",
              "      <script>\n",
              "        const buttonEl =\n",
              "          document.querySelector('#df-df346c5f-42f7-41cf-9bfd-ce4d38cbb505 button.colab-df-convert');\n",
              "        buttonEl.style.display =\n",
              "          google.colab.kernel.accessAllowed ? 'block' : 'none';\n",
              "\n",
              "        async function convertToInteractive(key) {\n",
              "          const element = document.querySelector('#df-df346c5f-42f7-41cf-9bfd-ce4d38cbb505');\n",
              "          const dataTable =\n",
              "            await google.colab.kernel.invokeFunction('convertToInteractive',\n",
              "                                                     [key], {});\n",
              "          if (!dataTable) return;\n",
              "\n",
              "          const docLinkHtml = 'Like what you see? Visit the ' +\n",
              "            '<a target=\"_blank\" href=https://colab.research.google.com/notebooks/data_table.ipynb>data table notebook</a>'\n",
              "            + ' to learn more about interactive tables.';\n",
              "          element.innerHTML = '';\n",
              "          dataTable['output_type'] = 'display_data';\n",
              "          await google.colab.output.renderOutput(dataTable, element);\n",
              "          const docLink = document.createElement('div');\n",
              "          docLink.innerHTML = docLinkHtml;\n",
              "          element.appendChild(docLink);\n",
              "        }\n",
              "      </script>\n",
              "    </div>\n",
              "  </div>\n",
              "  "
            ]
          },
          "metadata": {},
          "execution_count": 144
        }
      ]
    },
    {
      "cell_type": "code",
      "source": [
        "X = dataf.iloc[:,:-1].values\n",
        "y = dataf.iloc[:,-1].values "
      ],
      "metadata": {
        "id": "EfpCwzV1rbvT"
      },
      "execution_count": 145,
      "outputs": []
    },
    {
      "cell_type": "code",
      "source": [
        "X.shape"
      ],
      "metadata": {
        "colab": {
          "base_uri": "https://localhost:8080/"
        },
        "id": "71OP62j21nW7",
        "outputId": "7045079f-b117-4231-997a-a86299e6e5c1"
      },
      "execution_count": 146,
      "outputs": [
        {
          "output_type": "execute_result",
          "data": {
            "text/plain": [
              "(384, 128)"
            ]
          },
          "metadata": {},
          "execution_count": 146
        }
      ]
    },
    {
      "cell_type": "code",
      "source": [
        "encoder = LabelEncoder()"
      ],
      "metadata": {
        "id": "U-Qrd2Kq6A__"
      },
      "execution_count": 147,
      "outputs": []
    },
    {
      "cell_type": "code",
      "source": [
        "y = encoder.fit_transform(y)"
      ],
      "metadata": {
        "id": "CQCT_nu2jTeB"
      },
      "execution_count": 148,
      "outputs": []
    },
    {
      "cell_type": "code",
      "source": [
        "X_train, X_test, y_train, y_test = train_test_split(X, y, test_size=0.2, stratify=y)"
      ],
      "metadata": {
        "id": "YTlTaALXgc4i"
      },
      "execution_count": 149,
      "outputs": []
    },
    {
      "cell_type": "markdown",
      "source": [
        "# **Models**"
      ],
      "metadata": {
        "id": "LhlsRP-89yjJ"
      }
    },
    {
      "cell_type": "markdown",
      "source": [
        "## **LightGBM**"
      ],
      "metadata": {
        "id": "Vh5S-ok19ztO"
      }
    },
    {
      "cell_type": "code",
      "source": [
        "import lightgbm as lgb\n",
        "clf = lgb.LGBMClassifier()\n",
        "clf.fit(X_train, y_train)"
      ],
      "metadata": {
        "colab": {
          "base_uri": "https://localhost:8080/"
        },
        "id": "KuI-1UB_TZ7x",
        "outputId": "ce9f4e79-8274-4ead-89df-df76de0689c3"
      },
      "execution_count": 150,
      "outputs": [
        {
          "output_type": "execute_result",
          "data": {
            "text/plain": [
              "LGBMClassifier()"
            ]
          },
          "metadata": {},
          "execution_count": 150
        }
      ]
    },
    {
      "cell_type": "code",
      "source": [
        "y_pred_lbg = clf.predict(X_test)"
      ],
      "metadata": {
        "id": "q71HOWBpTfjw"
      },
      "execution_count": 151,
      "outputs": []
    },
    {
      "cell_type": "code",
      "source": [
        "print(classification_report(y_test,y_pred_lbg))\n",
        "cmatrix = confusion_matrix(y_test,y_pred_lbg)\n",
        "sns.heatmap(cmatrix,annot=True,fmt='.3g',cmap='viridis',xticklabels=['Happy','Sad'],yticklabels=['Happy','Sad'])\n",
        "plt.show()"
      ],
      "metadata": {
        "colab": {
          "base_uri": "https://localhost:8080/",
          "height": 421
        },
        "id": "Nge6jgjJ9V0o",
        "outputId": "4d972f3d-8830-4552-d766-078d186716b6"
      },
      "execution_count": 166,
      "outputs": [
        {
          "output_type": "stream",
          "name": "stdout",
          "text": [
            "              precision    recall  f1-score   support\n",
            "\n",
            "           0       0.88      0.72      0.79        39\n",
            "           1       0.76      0.89      0.82        38\n",
            "\n",
            "    accuracy                           0.81        77\n",
            "   macro avg       0.82      0.81      0.80        77\n",
            "weighted avg       0.82      0.81      0.80        77\n",
            "\n"
          ]
        },
        {
          "output_type": "display_data",
          "data": {
            "text/plain": [
              "<Figure size 432x288 with 2 Axes>"
            ],
            "image/png": "[encoded data removed]"
          },
          "metadata": {
            "needs_background": "light"
          }
        }
      ]
    }
  ]
}